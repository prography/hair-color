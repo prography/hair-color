{
 "cells": [
  {
   "cell_type": "code",
   "execution_count": 1,
   "metadata": {},
   "outputs": [],
   "source": [
    "import os\n",
    "\n",
    "import torch.utils.data\n",
    "import torchvision.transforms as transforms\n",
    "from PIL import Image\n",
    "from torch.utils.data.dataset import random_split\n"
   ]
  },
  {
   "cell_type": "code",
   "execution_count": 26,
   "metadata": {},
   "outputs": [],
   "source": [
    "path = os.path.join(\"figaro\",\"images\",\"Frame00001.png\")\n",
    "path1 = os.path.join(\"figaro\",\"masks\",\"Frame00001.png\")"
   ]
  },
  {
   "cell_type": "code",
   "execution_count": 30,
   "metadata": {},
   "outputs": [],
   "source": [
    "image = Image.open(path).convert(\"RGB\")\n",
    "mask = Image.open(path1)\n",
    "image_size = 224"
   ]
  },
  {
   "cell_type": "code",
   "execution_count": 32,
   "metadata": {},
   "outputs": [],
   "source": [
    "image = transforms.Compose([transforms.Resize(image_size),\n",
    "                            transforms.ToTensor(),\n",
    "                            transforms.Normalize((0.5, 0.5, 0.5), (0.5, 0.5, 0.5))\n",
    "                           ])(image)"
   ]
  },
  {
   "cell_type": "code",
   "execution_count": 31,
   "metadata": {},
   "outputs": [],
   "source": [
    "mask = transforms.Compose([transforms.Resize(image_size),\n",
    "                          transforms.ToTensor()])(mask)"
   ]
  },
  {
   "cell_type": "code",
   "execution_count": 33,
   "metadata": {},
   "outputs": [
    {
     "data": {
      "text/plain": [
       "tensor([[[ 0.9843,  0.9843,  0.9843,  ...,  0.9529,  0.9608,  0.9529],\n",
       "         [ 0.9843,  0.9843,  0.9843,  ...,  0.9529,  0.9608,  0.9529],\n",
       "         [ 0.9843,  0.9843,  0.9843,  ...,  0.9529,  0.9529,  0.9529],\n",
       "         ...,\n",
       "         [ 0.6784,  0.6784,  0.6784,  ...,  0.6078,  0.5843,  0.5843],\n",
       "         [ 0.6784,  0.6706,  0.6706,  ...,  0.6157,  0.5608,  0.5843],\n",
       "         [ 0.6863,  0.6863,  0.6863,  ...,  0.6235,  0.5922,  0.6078]],\n",
       "\n",
       "        [[ 0.9922,  0.9922,  0.9922,  ...,  0.9608,  0.9686,  0.9608],\n",
       "         [ 0.9922,  0.9922,  0.9922,  ...,  0.9608,  0.9686,  0.9608],\n",
       "         [ 0.9922,  0.9922,  0.9922,  ...,  0.9608,  0.9608,  0.9608],\n",
       "         ...,\n",
       "         [ 0.3333,  0.3333,  0.3333,  ...,  0.2549,  0.2471,  0.2314],\n",
       "         [ 0.3333,  0.3255,  0.3255,  ...,  0.2627,  0.2235,  0.2314],\n",
       "         [ 0.3412,  0.3412,  0.3412,  ...,  0.2706,  0.2549,  0.2549]],\n",
       "\n",
       "        [[ 0.9451,  0.9451,  0.9451,  ...,  0.9137,  0.9216,  0.9137],\n",
       "         [ 0.9451,  0.9451,  0.9451,  ...,  0.9137,  0.9216,  0.9137],\n",
       "         [ 0.9451,  0.9451,  0.9451,  ...,  0.9137,  0.9137,  0.9137],\n",
       "         ...,\n",
       "         [ 0.0588,  0.0431,  0.0431,  ..., -0.0667, -0.0824, -0.0902],\n",
       "         [ 0.0588,  0.0353,  0.0353,  ..., -0.0588, -0.1059, -0.0902],\n",
       "         [ 0.0667,  0.0510,  0.0510,  ..., -0.0510, -0.0745, -0.0667]]])"
      ]
     },
     "execution_count": 33,
     "metadata": {},
     "output_type": "execute_result"
    }
   ],
   "source": [
    "image"
   ]
  },
  {
   "cell_type": "code",
   "execution_count": null,
   "metadata": {},
   "outputs": [],
   "source": []
  }
 ],
 "metadata": {
  "kernelspec": {
   "display_name": "Python 3",
   "language": "python",
   "name": "python3"
  },
  "language_info": {
   "codemirror_mode": {
    "name": "ipython",
    "version": 3
   },
   "file_extension": ".py",
   "mimetype": "text/x-python",
   "name": "python",
   "nbconvert_exporter": "python",
   "pygments_lexer": "ipython3",
   "version": "3.6.5"
  }
 },
 "nbformat": 4,
 "nbformat_minor": 2
}
